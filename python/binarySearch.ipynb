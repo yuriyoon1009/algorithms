{
 "cells": [
  {
   "cell_type": "code",
   "execution_count": 137,
   "metadata": {},
   "outputs": [
    {
     "data": {
      "text/plain": [
       "[1, 4, 9, 16, 25, 36, 49, 64, 81, 100]"
      ]
     },
     "execution_count": 137,
     "metadata": {},
     "output_type": "execute_result"
    }
   ],
   "source": [
    "# 2의 이승, index 방\n",
    "# index**2 for index in range(1,11)\n",
    "#apple = [2 for index in range(0,3)]\n",
    "\n",
    "target = 49\n",
    "\n",
    "datas = [index**2 for index in range(1,11)]\n",
    "\n",
    "datas\n"
   ]
  },
  {
   "cell_type": "code",
   "execution_count": 138,
   "metadata": {},
   "outputs": [
    {
     "data": {
      "text/plain": [
       "[36, 49, 64, 81, 100]"
      ]
     },
     "execution_count": 138,
     "metadata": {},
     "output_type": "execute_result"
    }
   ],
   "source": [
    "start = 0\n",
    "end = len(datas) - 1\n",
    "mid = (start + end)//2\n",
    "\n",
    "left = [0,1,2,3,4]\n",
    "right = [5,6,7,8,9]\n",
    "\n",
    "\n",
    "if datas[mid] == target:\n",
    "    getDatas = [datas[mid]]\n",
    "elif datas[mid] > target:\n",
    "    getDatas = [datas[l] for l in left]\n",
    "elif datas[mid] < target and target <= datas[end]:\n",
    "    getDatas = [datas[r] for r in right]\n",
    "else:\n",
    "    print(\"try again\")\n",
    "    \n",
    "getDatas  "
   ]
  },
  {
   "cell_type": "code",
   "execution_count": 139,
   "metadata": {},
   "outputs": [
    {
     "name": "stdout",
     "output_type": "stream",
     "text": [
      "data값은 49이다.\n"
     ]
    }
   ],
   "source": [
    "for data in getDatas:\n",
    "    #print(idx, data)\n",
    "    while data == target:\n",
    "        print(\"data값은 {}이다.\".format(data))\n",
    "        break\n"
   ]
  },
  {
   "cell_type": "code",
   "execution_count": 127,
   "metadata": {},
   "outputs": [],
   "source": [
    "#for idx, data in enumerate(getDatas):\n",
    "#    #print(idx, data)\n",
    "#    while data == target:\n",
    "#        print(idx, data)\n",
    "#        break\n",
    "\n",
    "    \n",
    "            \n",
    "            \n",
    "      "
   ]
  },
  {
   "cell_type": "code",
   "execution_count": null,
   "metadata": {
    "collapsed": true
   },
   "outputs": [],
   "source": []
  },
  {
   "cell_type": "code",
   "execution_count": null,
   "metadata": {
    "collapsed": true
   },
   "outputs": [],
   "source": [
    "\n",
    "    \n"
   ]
  },
  {
   "cell_type": "code",
   "execution_count": null,
   "metadata": {
    "collapsed": true
   },
   "outputs": [],
   "source": [
    "\n",
    "\n",
    "  "
   ]
  },
  {
   "cell_type": "code",
   "execution_count": null,
   "metadata": {},
   "outputs": [],
   "source": []
  },
  {
   "cell_type": "code",
   "execution_count": null,
   "metadata": {
    "collapsed": true
   },
   "outputs": [],
   "source": []
  },
  {
   "cell_type": "code",
   "execution_count": null,
   "metadata": {
    "collapsed": true
   },
   "outputs": [],
   "source": []
  }
 ],
 "metadata": {
  "kernelspec": {
   "display_name": "Python 3",
   "language": "python",
   "name": "python3"
  },
  "language_info": {
   "codemirror_mode": {
    "name": "ipython",
    "version": 3
   },
   "file_extension": ".py",
   "mimetype": "text/x-python",
   "name": "python",
   "nbconvert_exporter": "python",
   "pygments_lexer": "ipython3",
   "version": "3.6.1"
  }
 },
 "nbformat": 4,
 "nbformat_minor": 2
}
