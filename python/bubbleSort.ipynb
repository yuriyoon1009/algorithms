{
 "cells": [
  {
   "cell_type": "code",
   "execution_count": 50,
   "metadata": {
    "collapsed": true
   },
   "outputs": [],
   "source": [
    "#URL : http://interactivepython.org/runestone/static/pythonds/SortSearch/TheBubbleSort.html\n",
    "\n",
    "#bubbleSort version1\n",
    "\n",
    "def bubble_sort_ver1(data):\n",
    "    data_len = len(data)\n",
    "    for i in range(data_len - 1):\n",
    "        for j in range(data_len - 1 - i):\n",
    "            if data[j] > data[j+1]:\n",
    "                data[j], data[j+1] = data[j+1], data[j]"
   ]
  },
  {
   "cell_type": "code",
   "execution_count": 51,
   "metadata": {},
   "outputs": [
    {
     "name": "stdout",
     "output_type": "stream",
     "text": [
      "[1, 2, 2, 3, 3, 4, 5, 6, 7, 8, 8, 10]\n"
     ]
    }
   ],
   "source": [
    "if __name__ == \"__main__\":\n",
    "    data = [2, 3, 5, 2, 3, 8, 6, 7, 10, 8, 1, 4]\n",
    "    bubble_sort_ver1(data)\n",
    "    print(data)"
   ]
  },
  {
   "cell_type": "code",
   "execution_count": 52,
   "metadata": {},
   "outputs": [
    {
     "name": "stdout",
     "output_type": "stream",
     "text": [
      "0\n",
      "1\n",
      "2\n",
      "0\n",
      "1\n",
      "0\n"
     ]
    }
   ],
   "source": [
    "#practice\n",
    "for i in range(3):\n",
    "    for j in range(3 - i):\n",
    "        print(j)\n",
    "    #012/01/0"
   ]
  },
  {
   "cell_type": "code",
   "execution_count": 57,
   "metadata": {
    "collapsed": true
   },
   "outputs": [],
   "source": [
    "#bubbleSort version2\n",
    "\n",
    "def bubble_sort_ver2(data):\n",
    "    data_len = len(data)\n",
    "    for passnum in range(data_len-1,0,-1):\n",
    "        for i in range(passnum):\n",
    "            if data[i] > data[i+1]:\n",
    "                temp = data[i]\n",
    "                data[i] = data[i+1]\n",
    "                data[i+1] = temp\n",
    "                    "
   ]
  },
  {
   "cell_type": "code",
   "execution_count": 58,
   "metadata": {},
   "outputs": [
    {
     "name": "stdout",
     "output_type": "stream",
     "text": [
      "[1, 2, 2, 3, 3, 4, 5, 6, 7, 8, 8, 10]\n"
     ]
    }
   ],
   "source": [
    "if __name__ == \"__main__\":\n",
    "    data = [2, 3, 5, 2, 3, 8, 6, 7, 10, 8, 1, 4]\n",
    "    bubble_sort_ver2(data)\n",
    "    print(data)\n"
   ]
  },
  {
   "cell_type": "code",
   "execution_count": 59,
   "metadata": {
    "collapsed": true
   },
   "outputs": [],
   "source": [
    "#for i in range(start, end, increment)"
   ]
  },
  {
   "cell_type": "code",
   "execution_count": 10,
   "metadata": {
    "collapsed": true
   },
   "outputs": [],
   "source": [
    "#bubbleSort version3\n",
    "\n",
    "def bubble_sort_ver3(data):\n",
    "    passnum = len(data)-1\n",
    "    while passnum > 0:\n",
    "       for i in range(passnum):\n",
    "           if data[i]>data[i+1]:\n",
    "               temp = data[i]\n",
    "               data[i] = data[i+1]\n",
    "               data[i+1] = temp\n",
    "       passnum = passnum-1"
   ]
  },
  {
   "cell_type": "code",
   "execution_count": 11,
   "metadata": {},
   "outputs": [
    {
     "name": "stdout",
     "output_type": "stream",
     "text": [
      "[20, 30, 40, 50, 60, 70, 80, 90, 100, 110]\n"
     ]
    }
   ],
   "source": [
    "    \n",
    "data=[20,30,40,90,50,60,70,80,100,110]\n",
    "bubble_sort_ver3(data)\n",
    "print(data)"
   ]
  },
  {
   "cell_type": "code",
   "execution_count": null,
   "metadata": {
    "collapsed": true
   },
   "outputs": [],
   "source": []
  }
 ],
 "metadata": {
  "kernelspec": {
   "display_name": "Python 3",
   "language": "python",
   "name": "python3"
  },
  "language_info": {
   "codemirror_mode": {
    "name": "ipython",
    "version": 3
   },
   "file_extension": ".py",
   "mimetype": "text/x-python",
   "name": "python",
   "nbconvert_exporter": "python",
   "pygments_lexer": "ipython3",
   "version": "3.6.1"
  }
 },
 "nbformat": 4,
 "nbformat_minor": 2
}
